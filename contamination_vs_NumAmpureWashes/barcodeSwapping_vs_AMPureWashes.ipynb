{
 "cells": [
  {
   "cell_type": "markdown",
   "metadata": {},
   "source": [
    "# Load data"
   ]
  },
  {
   "cell_type": "code",
   "execution_count": 19,
   "metadata": {},
   "outputs": [],
   "source": [
    "rm(list=ls())\n",
    "require(data.table)\n",
    "require(dplyr)\n",
    "require(RColorBrewer)\n",
    "require(cowplot)\n",
    "\n",
    "load('data/fetal_venule_exp1_HS.ReadsPerGene.matrix.RData')\n",
    "mat.HiSeq.2r = copy(mat)\n",
    "rm(mat)\n",
    "load('data/fetal_venule_exp1_NS.ReadsPerGene.matrix.RData')\n",
    "mat.NextSeq.2r = copy(mat)\n",
    "rm(mat)\n"
   ]
  },
  {
   "cell_type": "code",
   "execution_count": 17,
   "metadata": {},
   "outputs": [
    {
     "data": {
      "text/html": [
       "<ol class=list-inline>\n",
       "\t<li>915</li>\n",
       "\t<li>23437</li>\n",
       "</ol>\n"
      ],
      "text/latex": [
       "\\begin{enumerate*}\n",
       "\\item 915\n",
       "\\item 23437\n",
       "\\end{enumerate*}\n"
      ],
      "text/markdown": [
       "1. 915\n",
       "2. 23437\n",
       "\n",
       "\n"
      ],
      "text/plain": [
       "[1]   915 23437"
      ]
     },
     "metadata": {},
     "output_type": "display_data"
    },
    {
     "data": {
      "text/html": [
       "<ol class=list-inline>\n",
       "\t<li>'p10c10r1_C09'</li>\n",
       "\t<li>'p10c10r2_O09'</li>\n",
       "\t<li>'p10c10r3_K10'</li>\n",
       "\t<li>'p10c10r4_F11'</li>\n",
       "\t<li>'p10c10r5_B12'</li>\n",
       "\t<li>'p10c10r6_N12'</li>\n",
       "\t<li>'p10c10r7_H13'</li>\n",
       "\t<li>'p10c10r8_C14'</li>\n",
       "\t<li>'p10c11r1_D09'</li>\n",
       "\t<li>'p10c11r2_P09'</li>\n",
       "</ol>\n"
      ],
      "text/latex": [
       "\\begin{enumerate*}\n",
       "\\item 'p10c10r1\\_C09'\n",
       "\\item 'p10c10r2\\_O09'\n",
       "\\item 'p10c10r3\\_K10'\n",
       "\\item 'p10c10r4\\_F11'\n",
       "\\item 'p10c10r5\\_B12'\n",
       "\\item 'p10c10r6\\_N12'\n",
       "\\item 'p10c10r7\\_H13'\n",
       "\\item 'p10c10r8\\_C14'\n",
       "\\item 'p10c11r1\\_D09'\n",
       "\\item 'p10c11r2\\_P09'\n",
       "\\end{enumerate*}\n"
      ],
      "text/markdown": [
       "1. 'p10c10r1_C09'\n",
       "2. 'p10c10r2_O09'\n",
       "3. 'p10c10r3_K10'\n",
       "4. 'p10c10r4_F11'\n",
       "5. 'p10c10r5_B12'\n",
       "6. 'p10c10r6_N12'\n",
       "7. 'p10c10r7_H13'\n",
       "8. 'p10c10r8_C14'\n",
       "9. 'p10c11r1_D09'\n",
       "10. 'p10c11r2_P09'\n",
       "\n",
       "\n"
      ],
      "text/plain": [
       " [1] \"p10c10r1_C09\" \"p10c10r2_O09\" \"p10c10r3_K10\" \"p10c10r4_F11\" \"p10c10r5_B12\"\n",
       " [6] \"p10c10r6_N12\" \"p10c10r7_H13\" \"p10c10r8_C14\" \"p10c11r1_D09\" \"p10c11r2_P09\""
      ]
     },
     "metadata": {},
     "output_type": "display_data"
    }
   ],
   "source": [
    "dim(mat.NextSeq.2r)\n",
    "rownames(mat.NextSeq.2r)[1:10]"
   ]
  },
  {
   "cell_type": "code",
   "execution_count": 18,
   "metadata": {},
   "outputs": [],
   "source": [
    "cell.info.NS = data.table(cell.name = rownames(mat.NextSeq.2r),\n",
    "                         numreads = rowSums(mat.NextSeq.2r),\n",
    "                         numgenes = rowSums(mat.NextSeq.2r>0))\n",
    "cell.info.NS[, seq.well := substr(cell.name, regexpr(\"_\", cell.name)+1, nchar(cell.name))]\n",
    "cell.info.NS[, row := substr(seq.well, 1, 1)]\n",
    "cell.info.NS[, col := substr(seq.well, 2, 3)]\n"
   ]
  },
  {
   "cell_type": "code",
   "execution_count": 12,
   "metadata": {},
   "outputs": [
    {
     "ename": "ERROR",
     "evalue": "Error in eval(expr, envir, enclos): object 'dt.HiSeq.2r' not found\n",
     "output_type": "error",
     "traceback": [
      "Error in eval(expr, envir, enclos): object 'dt.HiSeq.2r' not found\nTraceback:\n"
     ]
    }
   ],
   "source": [
    "cell.info.NS = dt.HiSeq.2r[, .(sum(counts), sum(counts > 0)), by = 'cell.name']\n",
    "setnames(cell.info.HS, c('numreads', 'numgenes', 'cell.name'))\n",
    "cell.info.HS[, seq.well := substr(cell.name, regexpr(\"_\", cell.name)+1, nchar(cell.name))]\n",
    "cell.info.HS[, row := substr(seq.well, 1, 1)]\n",
    "cell.info.HS[, col := substr(seq.well, 2, 3)]"
   ]
  },
  {
   "cell_type": "code",
   "execution_count": 7,
   "metadata": {},
   "outputs": [
    {
     "data": {
      "text/html": [
       "<ol class=list-inline>\n",
       "\t<li>'p10c10r1_C09'</li>\n",
       "\t<li>'p10c10r2_O09'</li>\n",
       "\t<li>'p10c10r3_K10'</li>\n",
       "\t<li>'p10c10r4_F11'</li>\n",
       "\t<li>'p10c10r5_B12'</li>\n",
       "\t<li>'p10c10r6_N12'</li>\n",
       "</ol>\n"
      ],
      "text/latex": [
       "\\begin{enumerate*}\n",
       "\\item 'p10c10r1\\_C09'\n",
       "\\item 'p10c10r2\\_O09'\n",
       "\\item 'p10c10r3\\_K10'\n",
       "\\item 'p10c10r4\\_F11'\n",
       "\\item 'p10c10r5\\_B12'\n",
       "\\item 'p10c10r6\\_N12'\n",
       "\\end{enumerate*}\n"
      ],
      "text/markdown": [
       "1. 'p10c10r1_C09'\n",
       "2. 'p10c10r2_O09'\n",
       "3. 'p10c10r3_K10'\n",
       "4. 'p10c10r4_F11'\n",
       "5. 'p10c10r5_B12'\n",
       "6. 'p10c10r6_N12'\n",
       "\n",
       "\n"
      ],
      "text/plain": [
       "[1] \"p10c10r1_C09\" \"p10c10r2_O09\" \"p10c10r3_K10\" \"p10c10r4_F11\" \"p10c10r5_B12\"\n",
       "[6] \"p10c10r6_N12\""
      ]
     },
     "metadata": {},
     "output_type": "display_data"
    }
   ],
   "source": []
  }
 ],
 "metadata": {
  "kernelspec": {
   "display_name": "R",
   "language": "R",
   "name": "ir"
  },
  "language_info": {
   "codemirror_mode": "r",
   "file_extension": ".r",
   "mimetype": "text/x-r-source",
   "name": "R",
   "pygments_lexer": "r",
   "version": "3.4.1"
  }
 },
 "nbformat": 4,
 "nbformat_minor": 2
}
